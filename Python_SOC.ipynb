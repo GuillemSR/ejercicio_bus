{
  "nbformat": 4,
  "nbformat_minor": 0,
  "metadata": {
    "colab": {
      "name": "Python_SOC.ipynb",
      "provenance": [],
      "collapsed_sections": [],
      "authorship_tag": "ABX9TyOB+YXObAb/DxqjvPHPWhWn",
      "include_colab_link": true
    },
    "kernelspec": {
      "name": "python3",
      "display_name": "Python 3"
    }
  },
  "cells": [
    {
      "cell_type": "markdown",
      "metadata": {
        "id": "view-in-github",
        "colab_type": "text"
      },
      "source": [
        "<a href=\"https://colab.research.google.com/github/GuillemSR/ejercicio_bus/blob/master/Python_SOC.ipynb\" target=\"_parent\"><img src=\"https://colab.research.google.com/assets/colab-badge.svg\" alt=\"Open In Colab\"/></a>"
      ]
    },
    {
      "cell_type": "code",
      "metadata": {
        "colab": {
          "base_uri": "https://localhost:8080/"
        },
        "id": "HjejQ4UTfA1Z",
        "outputId": "0b919052-8495-4f72-ece4-85e399b0f21f"
      },
      "source": [
        "# 1)\r\n",
        "\r\n",
        "x = int(input())\r\n",
        "def tabla(x):\r\n",
        "  for i in range(11):\r\n",
        "    print(f'{x} x {i} = {x*i}')\r\n",
        "tabla(x)\r\n"
      ],
      "execution_count": null,
      "outputs": [
        {
          "output_type": "stream",
          "text": [
            "7\n",
            "7 x 0 = 0\n",
            "7 x 1 = 7\n",
            "7 x 2 = 14\n",
            "7 x 3 = 21\n",
            "7 x 4 = 28\n",
            "7 x 5 = 35\n",
            "7 x 6 = 42\n",
            "7 x 7 = 49\n",
            "7 x 8 = 56\n",
            "7 x 9 = 63\n",
            "7 x 10 = 70\n"
          ],
          "name": "stdout"
        }
      ]
    },
    {
      "cell_type": "code",
      "metadata": {
        "colab": {
          "base_uri": "https://localhost:8080/"
        },
        "id": "kB2wdAMvgT8r",
        "outputId": "23189024-b2b6-4ad5-d464-1458dd56efb0"
      },
      "source": [
        "# 2)\r\n",
        "\r\n",
        "n = int(input())\r\n",
        "def hola(x):\r\n",
        "  for i in range(x):\r\n",
        "    print('Hola')\r\n",
        "hola(n)"
      ],
      "execution_count": null,
      "outputs": [
        {
          "output_type": "stream",
          "text": [
            "8\n",
            "Hola\n",
            "Hola\n",
            "Hola\n",
            "Hola\n",
            "Hola\n",
            "Hola\n",
            "Hola\n",
            "Hola\n"
          ],
          "name": "stdout"
        }
      ]
    },
    {
      "cell_type": "code",
      "metadata": {
        "colab": {
          "base_uri": "https://localhost:8080/"
        },
        "id": "IbUoAfyKgiET",
        "outputId": "b676ac10-d042-42c6-9287-df3c65af6a0b"
      },
      "source": [
        "# 3)\r\n",
        "\r\n",
        "x = int(input())\r\n",
        "y = int(input())\r\n",
        "def intermedios(x, y):  \r\n",
        "  for i in range(x+1, y):\r\n",
        "    print(i)\r\n",
        "intermedios(x, y)\r\n"
      ],
      "execution_count": null,
      "outputs": [
        {
          "output_type": "stream",
          "text": [
            "4\n",
            "8\n",
            "5\n",
            "6\n",
            "7\n"
          ],
          "name": "stdout"
        }
      ]
    },
    {
      "cell_type": "code",
      "metadata": {
        "colab": {
          "base_uri": "https://localhost:8080/"
        },
        "id": "iao9DYdih8K6",
        "outputId": "35fe3878-54be-4136-9c59-7255cc068b0e"
      },
      "source": [
        "# 5)\r\n",
        "\r\n",
        "def maximo(x):\r\n",
        "  return max(x)\r\n",
        "\r\n",
        "maximo([4, 6, 70])\r\n"
      ],
      "execution_count": null,
      "outputs": [
        {
          "output_type": "execute_result",
          "data": {
            "text/plain": [
              "70"
            ]
          },
          "metadata": {
            "tags": []
          },
          "execution_count": 17
        }
      ]
    },
    {
      "cell_type": "code",
      "metadata": {
        "colab": {
          "base_uri": "https://localhost:8080/"
        },
        "id": "GTA8Ujegj0Y2",
        "outputId": "a77861f3-ba38-40ae-8412-4a9b6e7f794f"
      },
      "source": [
        "\r\n",
        "def mes(x):\r\n",
        "  meses = {1: 'Enero', 2: 'Febrero', 3: 'Marzo',\r\n",
        "                4: 'Abril', 5: 'Mayo', 6: 'Junio',\r\n",
        "                7: 'Julio', 8: 'Agosto', 9: 'Septiembre',\r\n",
        "                10: 'Octubre', 11: 'Noviembre', 12: 'Diciembre'}\r\n",
        "  return meses.get(x)\r\n",
        "\r\n",
        "print(mes(6))\r\n"
      ],
      "execution_count": null,
      "outputs": [
        {
          "output_type": "stream",
          "text": [
            "Junio\n"
          ],
          "name": "stdout"
        }
      ]
    },
    {
      "cell_type": "code",
      "metadata": {
        "colab": {
          "base_uri": "https://localhost:8080/"
        },
        "id": "XbqSfE1Ik_vL",
        "outputId": "c0d630c0-f7eb-4124-dd7c-794304bc03b3"
      },
      "source": [
        "def calculadora(x, y, t):\r\n",
        "  return eval(x + t + y)\r\n",
        "print(calculadora('6', '9', '*'))"
      ],
      "execution_count": null,
      "outputs": [
        {
          "output_type": "stream",
          "text": [
            "54\n"
          ],
          "name": "stdout"
        }
      ]
    },
    {
      "cell_type": "code",
      "metadata": {
        "colab": {
          "base_uri": "https://localhost:8080/"
        },
        "id": "5J9VfTl5JMkR",
        "outputId": "0e08aa6f-9901-4986-8f07-172ce1cd9e38"
      },
      "source": [
        "!git clone https://github.com/GuillemSR/ejercicio_bus.git"
      ],
      "execution_count": 1,
      "outputs": [
        {
          "output_type": "stream",
          "text": [
            "Cloning into 'ejercicio_bus'...\n",
            "remote: Enumerating objects: 4, done.\u001b[K\n",
            "remote: Counting objects: 100% (4/4), done.\u001b[K\n",
            "remote: Compressing objects: 100% (2/2), done.\u001b[K\n",
            "remote: Total 4 (delta 0), reused 4 (delta 0), pack-reused 0\u001b[K\n",
            "Unpacking objects: 100% (4/4), done.\n"
          ],
          "name": "stdout"
        }
      ]
    },
    {
      "cell_type": "code",
      "metadata": {
        "id": "_i4kW_WSnr9n"
      },
      "source": [
        "x = input('Introduzca una operación (Ej: 2+5, 4**7) ')\r\n",
        "def calculadora(x): return eval(x)\r\n",
        "print(calculadora(x))\r\n"
      ],
      "execution_count": null,
      "outputs": []
    },
    {
      "cell_type": "code",
      "metadata": {
        "colab": {
          "base_uri": "https://localhost:8080/"
        },
        "id": "YpQV-wqYwjdU",
        "outputId": "656f901b-56ce-4fcb-d9c5-d9f24e33e63a"
      },
      "source": [
        "def text_menu():\r\n",
        "    return (\r\n",
        "        '1) Venda de bitllets\\n'\r\n",
        "        '2) Devolució de bitllets\\n'\r\n",
        "        '3) Estat de la venda\\n'\r\n",
        "        '0) Sortir'\r\n",
        "    )\r\n",
        "def vendaBitllets(cBitllets, bittlets):\r\n",
        "    if cBitllets < bittlets[\"Disponibles\"]:\r\n",
        "        bittlets[\"Disponibles\"] = bittlets[\"Disponibles\"] - cBitllets\r\n",
        "        bittlets[\"Comprats\"] = bittlets[\"Comprats\"] + cBitllets\r\n",
        "    else:\r\n",
        "        print(\"Bitllets no disponibles\")\r\n",
        "\r\n",
        "    return bittlets\r\n",
        "\r\n",
        "def devolucioBitllets(cBitllets, bitllets):\r\n",
        "    if cBitllets < bitllets['Comprats']:\r\n",
        "        bitllets[\"Comprats\"] = bitllets[\"Comprats\"] - cBitllets\r\n",
        "        bitllets[\"Disponibles\"] = bitllets[\"Disponibles\"] + cBitllets\r\n",
        "    else:\r\n",
        "        print(\"No hi ha suficients bitllets per retornar\")\r\n",
        "\r\n",
        "    return bitllets\r\n",
        "\r\n",
        "\r\n",
        "def main():\r\n",
        "    opcio = None\r\n",
        "    bus = {\r\n",
        "        1: {\r\n",
        "            \"Disponibles\": 100,\r\n",
        "            \"Comprats\": 0\r\n",
        "        },\r\n",
        "        2: {\r\n",
        "            \"Disponibles\": 100,\r\n",
        "            \"Comprats\": 0\r\n",
        "        },\r\n",
        "        3: {\r\n",
        "            \"Disponibles\": 100,\r\n",
        "            \"Comprats\": 0\r\n",
        "        }\r\n",
        "    }\r\n",
        "\r\n",
        "    print(text_menu())\r\n",
        "\r\n",
        "    while opcio != 0:\r\n",
        "            num = int(input(\"Tria un bus (1-3) : \"))\r\n",
        "            if num in bus:\r\n",
        "                opcio = int(input(\"Tria una opció : \"))\r\n",
        "                if opcio == 1:\r\n",
        "                    cBitllets = int(input(\"Cuants bittlets vols comprar ? \"))\r\n",
        "                    bus[num] = vendaBitllets(cBitllets, bus[num])\r\n",
        "                    print(bus[num])\r\n",
        "                if opcio == 2:\r\n",
        "                    cBitllets = int(input(\"Cuants bittlets vols retornar ? \"))\r\n",
        "                    bus[num] = devolucioBitllets(cBitllets, bus[num])\r\n",
        "                    print(bus[num])\r\n",
        "            else:\r\n",
        "                print(\"El numero de bus  introduit no es correcta\")\r\n",
        "\r\n",
        "main()"
      ],
      "execution_count": null,
      "outputs": [
        {
          "output_type": "stream",
          "text": [
            "1) Venda de bitllets\n",
            "2) Devolució de bitllets\n",
            "3) Estat de la venda\n",
            "0) Sortir\n",
            "Tria un bus (1-3) : 3\n",
            "Tria una opció : 2\n",
            "Cuants bittlets vols retornar ? 7\n",
            "No hi ha suficients bitllets per retornar\n",
            "{'Disponibles': 100, 'Comprats': 0}\n",
            "Tria un bus (1-3) : 1\n",
            "Tria una opció : 1\n",
            "Cuants bittlets vols comprar ? 50\n",
            "{'Disponibles': 50, 'Comprats': 50}\n",
            "Tria un bus (1-3) : 2\n",
            "Tria una opció : 0\n"
          ],
          "name": "stdout"
        }
      ]
    },
    {
      "cell_type": "code",
      "metadata": {
        "colab": {
          "base_uri": "https://localhost:8080/"
        },
        "id": "WeICQc1ByXbV",
        "outputId": "8c1a5e4c-9017-4492-df9f-9f0f5dcc286f"
      },
      "source": [
        "class Cuadrado():\r\n",
        "\r\n",
        "  def __init__(self, costado):\r\n",
        "    self.costado = costado\r\n",
        "\r\n",
        "  def superficie(self):\r\n",
        "    return self.costado**2\r\n",
        "  \r\n",
        "x = Cuadrado(5)\r\n",
        "print(x.superficie())\r\n"
      ],
      "execution_count": null,
      "outputs": [
        {
          "output_type": "stream",
          "text": [
            "25\n"
          ],
          "name": "stdout"
        }
      ]
    },
    {
      "cell_type": "code",
      "metadata": {
        "colab": {
          "base_uri": "https://localhost:8080/"
        },
        "id": "ZM5AztJ7Nou7",
        "outputId": "05e55bf9-587e-481d-ff10-fd87ac472a1b"
      },
      "source": [
        "class Cuadrado():\r\n",
        "\r\n",
        "  def __init__(self, costado):\r\n",
        "    self.setter(costado)\r\n",
        "\r\n",
        "  def superficie(self):\r\n",
        "    return self.getter\r\n",
        "\r\n",
        "  def setter(self, costado):\r\n",
        "    self.costado = costado\r\n",
        "\r\n",
        "  def getter(self):\r\n",
        "    return self.costado**2\r\n",
        "  \r\n",
        "x = Cuadrado(9)\r\n",
        "x.setter(5)\r\n",
        "print(x.getter())"
      ],
      "execution_count": null,
      "outputs": [
        {
          "output_type": "stream",
          "text": [
            "25\n"
          ],
          "name": "stdout"
        }
      ]
    },
    {
      "cell_type": "code",
      "metadata": {
        "colab": {
          "base_uri": "https://localhost:8080/"
        },
        "id": "I9a3HnMvTiOs",
        "outputId": "0a42ab6b-7ec1-4267-cb69-fa1c653c6f50"
      },
      "source": [
        "class Cuadrado():\r\n",
        "\r\n",
        "  def __init__(self, costado):\r\n",
        "    self.__costado = costado\r\n",
        "    self.__area = None\r\n",
        "\r\n",
        "  def getbase(self):\r\n",
        "    return self.__costado\r\n",
        "\r\n",
        "  def setter(self, costado):\r\n",
        "    self.__costado = costado\r\n",
        "\r\n",
        "  def superficie(self):\r\n",
        "    self.__area = self.getbase()**2\r\n",
        "\r\n",
        "  def getarea(self):\r\n",
        "    if self.__area is None:\r\n",
        "      self.superficie()\r\n",
        "    return self.__area\r\n",
        "  \r\n",
        "x = Cuadrado(9)\r\n",
        "x.setter(8)\r\n",
        "print(x.getbase())\r\n",
        "print(x.getarea())\r\n",
        "\r\n",
        "# getter y setter se usa para comprobaciones"
      ],
      "execution_count": null,
      "outputs": [
        {
          "output_type": "stream",
          "text": [
            "8\n",
            "64\n"
          ],
          "name": "stdout"
        }
      ]
    },
    {
      "cell_type": "code",
      "metadata": {
        "colab": {
          "base_uri": "https://localhost:8080/"
        },
        "id": "Xstp3hhXw-1b",
        "outputId": "a1da9f9a-373a-4ebd-d2dd-adaa1d615c47"
      },
      "source": [
        "class Cuadrado():\r\n",
        "\r\n",
        "  def __init__(self, costado):\r\n",
        "    self.costado = costado\r\n",
        "    self.superficie = self.superficie()\r\n",
        "\r\n",
        "  def superficie(self):\r\n",
        "    return self.costado**2\r\n",
        "  \r\n",
        "x = Cuadrado(5)\r\n",
        "print(x.superficie)\r\n",
        "print(x.costado)\r\n",
        "\r\n",
        "\r\n"
      ],
      "execution_count": null,
      "outputs": [
        {
          "output_type": "stream",
          "text": [
            "25\n",
            "5\n"
          ],
          "name": "stdout"
        }
      ]
    },
    {
      "cell_type": "code",
      "metadata": {
        "colab": {
          "base_uri": "https://localhost:8080/"
        },
        "id": "El4DFeFKppIV",
        "outputId": "f218546e-71dc-4b0d-9355-17c412664071"
      },
      "source": [
        "class Triangulo():\r\n",
        "\r\n",
        "  def __init__(self, base, altura):\r\n",
        "    self.base = base\r\n",
        "    self.altura = altura\r\n",
        "\r\n",
        "  def superficie(self):\r\n",
        "    return (self.base*self.altura)/2\r\n",
        "  \r\n",
        "x = Triangulo(3, 33)\r\n",
        "print(x.superficie())"
      ],
      "execution_count": null,
      "outputs": [
        {
          "output_type": "stream",
          "text": [
            "49.5\n"
          ],
          "name": "stdout"
        }
      ]
    },
    {
      "cell_type": "code",
      "metadata": {
        "colab": {
          "base_uri": "https://localhost:8080/"
        },
        "id": "57F_flItPXiy",
        "outputId": "5b5c7575-e7a0-47aa-8cc3-47305c3d7d95"
      },
      "source": [
        "class Triangulo():\r\n",
        "\r\n",
        "  def __init__(self, base, altura):\r\n",
        "    self.setter(base, altura)\r\n",
        "\r\n",
        "  def superficie(self):\r\n",
        "    return self.getter()\r\n",
        "\r\n",
        "  def setter(self, base, altura):\r\n",
        "    self.base = base\r\n",
        "    self.altura = altura\r\n",
        "\r\n",
        "  def getter(self):\r\n",
        "    return (self.base*self.altura)/2\r\n",
        "\r\n",
        "x = Triangulo(3, 33)\r\n",
        "x.setter(5, 12)\r\n",
        "print(x.getter())"
      ],
      "execution_count": null,
      "outputs": [
        {
          "output_type": "stream",
          "text": [
            "30.0\n"
          ],
          "name": "stdout"
        }
      ]
    },
    {
      "cell_type": "code",
      "metadata": {
        "colab": {
          "base_uri": "https://localhost:8080/"
        },
        "id": "heo_GrZZqltR",
        "outputId": "3e2d9fbf-fa48-4557-84c1-6b522a84bdce"
      },
      "source": [
        "from math import pi\r\n",
        "\r\n",
        "class Circulo():\r\n",
        "\r\n",
        "  def __init__(self, radio):\r\n",
        "    self.radio = radio\r\n",
        "\r\n",
        "  def superficie(self):\r\n",
        "    return self.radio**2*pi\r\n",
        "\r\n",
        "  def perimetro(self):\r\n",
        "    return 2*pi*self.radio\r\n",
        "\r\n",
        "  \r\n",
        "x = Circulo(14)\r\n",
        "print(x.superficie())\r\n",
        "print(x.perimetro())"
      ],
      "execution_count": null,
      "outputs": [
        {
          "output_type": "stream",
          "text": [
            "615.7521601035994\n",
            "87.96459430051421\n"
          ],
          "name": "stdout"
        }
      ]
    },
    {
      "cell_type": "code",
      "metadata": {
        "colab": {
          "base_uri": "https://localhost:8080/"
        },
        "id": "aSq6NBTrHQv2",
        "outputId": "24168d6f-446e-4e23-b662-700221ca12ec"
      },
      "source": [
        "from math import pi\r\n",
        "\r\n",
        "class Circulo():\r\n",
        "\r\n",
        "  def __init__(self, radio):\r\n",
        "    self.setter(radio)\r\n",
        "\r\n",
        "  def superficie(self):\r\n",
        "    return self.getter1()\r\n",
        "\r\n",
        "  def perimetro(self):\r\n",
        "    return self.getter2()\r\n",
        "  \r\n",
        "  def setter(self, radio):\r\n",
        "    self.radio = radio\r\n",
        "\r\n",
        "  def getter1(self):\r\n",
        "    return  pi*self.radio**2\r\n",
        "\r\n",
        "  def getter2(self):\r\n",
        "    return  2*pi*self.radio\r\n",
        "  \r\n",
        "x = Circulo(14)\r\n",
        "print(x.superficie())\r\n",
        "print(x.perimetro())\r\n",
        "print(x.getter1())\r\n",
        "print(x.getter2())\r\n",
        "x.setter(38)\r\n",
        "print(x.getter1())\r\n",
        "print(x.getter2())\r\n"
      ],
      "execution_count": null,
      "outputs": [
        {
          "output_type": "stream",
          "text": [
            "615.7521601035994\n",
            "87.96459430051421\n",
            "615.7521601035994\n",
            "87.96459430051421\n",
            "4536.459791783661\n",
            "238.76104167282426\n"
          ],
          "name": "stdout"
        }
      ]
    },
    {
      "cell_type": "code",
      "metadata": {
        "colab": {
          "base_uri": "https://localhost:8080/"
        },
        "id": "07i9YvmGqeWd",
        "outputId": "72a18a5b-140f-4f4b-c5c2-9e9c5fa9a2d2"
      },
      "source": [
        "class Cuadrado():\r\n",
        "\r\n",
        "  def __init__(self, costado, coordenada):\r\n",
        "    self.__costado = costado\r\n",
        "    self.__area = None\r\n",
        "    self.__coordenada = coordenada\r\n",
        "\r\n",
        "  def getbase(self):\r\n",
        "    return self.__costado\r\n",
        "\r\n",
        "  def setcostado(self, costado):\r\n",
        "    self.__costado = costado\r\n",
        "\r\n",
        "  def superficie(self):\r\n",
        "    self.__area = self.getbase()**2\r\n",
        "\r\n",
        "  def getarea(self):\r\n",
        "    if self.__area is None:\r\n",
        "      self.superficie()\r\n",
        "    return self.__area\r\n",
        "\r\n",
        "  def datos(self):\r\n",
        "    return str(self.__area) + '\\n' + str(self.__costado) + '\\n' + str(self.__coordenada.getx()) + '\\n' + str(self.__coordenada.gety())\r\n",
        "\r\n",
        "class Coordenada():\r\n",
        "\r\n",
        "  def __init__(self, x, y):\r\n",
        "    self.setx(x)\r\n",
        "    self.sety(y)\r\n",
        "\r\n",
        "  def setx(self, x):\r\n",
        "    self.x = x\r\n",
        "\r\n",
        "  def sety(self, y):\r\n",
        "    self.y = y\r\n",
        "\r\n",
        "  def getx(self):\r\n",
        "    return self.x\r\n",
        "\r\n",
        "  def gety(self):\r\n",
        "    return self.y\r\n",
        "  \r\n",
        "\r\n",
        "cord = Coordenada(5, 7)\r\n",
        "cuadrado1 = Cuadrado(9, cord)\r\n",
        "print(cuadrado1.getarea())\r\n",
        "print(cuadrado1.datos())\r\n",
        "# print(x.coordenada)\r\n"
      ],
      "execution_count": null,
      "outputs": [
        {
          "output_type": "stream",
          "text": [
            "81\n",
            "81\n",
            "9\n",
            "5\n",
            "7\n"
          ],
          "name": "stdout"
        }
      ]
    },
    {
      "cell_type": "code",
      "metadata": {
        "id": "coE0FrwiTNIh",
        "colab": {
          "base_uri": "https://localhost:8080/"
        },
        "outputId": "5875a578-0549-43d4-c8b7-47531a1c6c8d"
      },
      "source": [
        "class Persona:\r\n",
        "\r\n",
        "  def __init__(self, nombre, apellido):\r\n",
        "    self.nombre = nombre\r\n",
        "    self.apellido = apellido\r\n",
        "\r\n",
        "  def Nombre(self):\r\n",
        "    return self.nombre + ' ' + self.apellido\r\n",
        "\r\n",
        "class Empleado(Persona):\r\n",
        "\r\n",
        "  def __init__(self, nombre, apellido):\r\n",
        "    Persona.__init__(self, nombre, apellido)\r\n",
        "\r\n",
        "p1 = Persona('Lola', 'Pailler')\r\n",
        "print(p1.Nombre())\r\n",
        "\r\n",
        "e1 = Empleado('Pola', 'Lailler')\r\n",
        "print(e1.Nombre())\r\n"
      ],
      "execution_count": null,
      "outputs": [
        {
          "output_type": "stream",
          "text": [
            "Lola Pailler\n",
            "Pola Lailler\n"
          ],
          "name": "stdout"
        }
      ]
    },
    {
      "cell_type": "code",
      "metadata": {
        "colab": {
          "base_uri": "https://localhost:8080/"
        },
        "id": "jy_CSZ6KTtAI",
        "outputId": "ac518243-6d74-4b3c-af46-4d16282ad4b3"
      },
      "source": [
        "class Persona:\r\n",
        "\r\n",
        "  def __init__(self, nombre, apellido):\r\n",
        "    self.nombre = nombre\r\n",
        "    self.apellido = apellido\r\n",
        "\r\n",
        "  def Nombre(self):\r\n",
        "    return self.nombre + ' ' + self.apellido\r\n",
        "\r\n",
        "class Empleado(Persona):\r\n",
        "\r\n",
        "  def __init__(self, nombre, apellido, cod):\r\n",
        "    super().__init__( nombre, apellido)\r\n",
        "    self.cod = cod\r\n",
        "\r\n",
        "  def empleado(self):\r\n",
        "    return self.nombre + ' ' + self.apellido + ' ' + str(self.cod)\r\n",
        "\r\n",
        "p1 = Persona('Lola', 'Pailler')\r\n",
        "print(p1.Nombre())\r\n",
        "\r\n",
        "e1 = Empleado('Pola', 'Lailler', 1439776)\r\n",
        "print(e1.Nombre())\r\n",
        "\r\n",
        "print(e1.empleado())"
      ],
      "execution_count": null,
      "outputs": [
        {
          "output_type": "stream",
          "text": [
            "Lola Pailler\n",
            "Pola Lailler\n",
            "Pola Lailler 1439776\n"
          ],
          "name": "stdout"
        }
      ]
    },
    {
      "cell_type": "code",
      "metadata": {
        "colab": {
          "base_uri": "https://localhost:8080/"
        },
        "id": "cseQBgsCVTM_",
        "outputId": "763ae8e6-36e1-486c-c319-a5747b035c4f"
      },
      "source": [
        "class Persona:\r\n",
        "\r\n",
        "  def __init__(self, nombre, apellido):\r\n",
        "    self.nombre = nombre\r\n",
        "    self.apellido = apellido\r\n",
        "\r\n",
        "  # dunder (double underscore)\r\n",
        "  def Nombre(self):\r\n",
        "    return self.nombre + ' ' + self.apellido\r\n",
        "\r\n",
        "class Empleado(Persona):\r\n",
        "\r\n",
        "  def __init__(self, nombre, apellido, cod):\r\n",
        "    super().__init__( nombre, apellido)\r\n",
        "    self.cod = cod\r\n",
        "\r\n",
        "  def empleado(self):\r\n",
        "    return self.nombre + ' ' + self.apellido + ' ' + str(self.cod)\r\n",
        "\r\n",
        "p1 = Persona('Lola', 'Pailler')\r\n",
        "print(p1.Nombre())\r\n",
        "\r\n",
        "e1 = Empleado('Pola', 'Lailler', 1439776)\r\n",
        "print(e1.Nombre())\r\n",
        "\r\n",
        "print(e1.empleado())"
      ],
      "execution_count": null,
      "outputs": [
        {
          "output_type": "stream",
          "text": [
            "Lola Pailler\n",
            "Pola Lailler\n",
            "Pola Lailler 1439776\n"
          ],
          "name": "stdout"
        }
      ]
    },
    {
      "cell_type": "code",
      "metadata": {
        "id": "66Lf8rhfbiTe"
      },
      "source": [
        ""
      ],
      "execution_count": null,
      "outputs": []
    },
    {
      "cell_type": "code",
      "metadata": {
        "id": "gEq2FvJPX6Hy"
      },
      "source": [
        "from math import pi\r\n",
        "\r\n",
        "class Coordenada():\r\n",
        "\r\n",
        "  def __init__(self, x, y):\r\n",
        "    self.setx(x)\r\n",
        "    self.sety(y)\r\n",
        "\r\n",
        "  def setx(self, x):\r\n",
        "    self.x = x\r\n",
        "\r\n",
        "  def sety(self, y):\r\n",
        "    self.y = y\r\n",
        "\r\n",
        "  def getx(self):\r\n",
        "    return self.x\r\n",
        "\r\n",
        "  def gety(self):\r\n",
        "    return self.y\r\n",
        "\r\n",
        "\r\n",
        "class Cuadrado:\r\n",
        "\r\n",
        "  def __init__(self, costado, coordenada):\r\n",
        "    self.__costado = costado\r\n",
        "    self.__area = None\r\n",
        "    self.__coordenada = coordenada\r\n",
        "\r\n",
        "  def getbase(self):\r\n",
        "    return self.__costado\r\n",
        "\r\n",
        "  def setcostado(self, costado):\r\n",
        "    self.__costado = costado\r\n",
        "\r\n",
        "  def superficie(self):\r\n",
        "    self.__area = self.getbase()**2\r\n",
        "\r\n",
        "  def getarea(self):\r\n",
        "    if self.__area is None:\r\n",
        "      self.superficie()\r\n",
        "    return self.__area\r\n",
        "\r\n",
        "  def datos1(self):\r\n",
        "    return str(self.__area) + '\\n' + str(self.__costado) + '\\n' + str(self.__coordenada.getx()) + '\\n' + str(self.__coordenada.gety())\r\n",
        "\r\n",
        "\r\n",
        "class Triangulo:\r\n",
        "\r\n",
        "  def __init__(self, base, altura, coordenada):\r\n",
        "    # self.setter(base, altura)\r\n",
        "    self.__altura = altura\r\n",
        "    self.__base = base\r\n",
        "    self.__area = None\r\n",
        "    self.__coordenada = coordenada\r\n",
        "\r\n",
        "  def superficie(self):\r\n",
        "    self.__area = (self.__base*self.__altura)/2\r\n",
        "\r\n",
        "  def set_base_altura(self, base, altura):\r\n",
        "    self.__base = base\r\n",
        "    self.__altura = altura\r\n",
        "\r\n",
        "  def getarea(self):\r\n",
        "    if self.__area is None:\r\n",
        "      self.superficie()\r\n",
        "    return self.__area\r\n",
        "\r\n",
        "  def datos2(self):\r\n",
        "    return str(self.__area) + '\\n' + str(self.__base) + str(self.__altura) + '\\n' + str(self.__coordenada.getx()) + '\\n' + str(self.__coordenada.gety())\r\n",
        "\r\n",
        "\r\n",
        "class Circulo:\r\n",
        "\r\n",
        "  def __init__(self, radio, coordenada):\r\n",
        "    self.__radio = radio\r\n",
        "    self.__coordenada = coordenada\r\n",
        "\r\n",
        "  def superficie(self):\r\n",
        "    self.__area = pi*self.__radio**2\r\n",
        "  \r\n",
        "  def setradio(self, radio):\r\n",
        "    self.__radio = radio\r\n",
        "\r\n",
        "  def getarea(self):\r\n",
        "    if self.__area is None:\r\n",
        "      self.superficie()\r\n",
        "    return self.__area\r\n",
        "\r\n",
        "  def datos3(self):\r\n",
        "    return str(self.__area) + '\\n' + str(self.__radio) + '\\n' + str(self.__coordenada.getx()) + '\\n' + str(self.__coordenada.gety())\r\n",
        "\r\n",
        "# x = Triangulo(3, 33)\r\n",
        "# x.setter(5, 12)\r\n",
        "# print(x.getter())"
      ],
      "execution_count": null,
      "outputs": []
    },
    {
      "cell_type": "code",
      "metadata": {
        "colab": {
          "base_uri": "https://localhost:8080/"
        },
        "id": "WjtalvRUX6rJ",
        "outputId": "a734744d-7aec-47a9-f6f5-702a76770a45"
      },
      "source": [
        "class FiguraGeometrica(Cuadrado, Triangulo, Circulo):\r\n",
        "\r\n",
        "  def __init__(self, coordenada, costado = None, base = None, altura = None, radio = None): #, fig\r\n",
        "\r\n",
        "    # fig.self = fig\r\n",
        "    self.__coordenada = coordenada\r\n",
        "    Cuadrado.__init__(self, costado, coordenada)\r\n",
        "    Triangulo.__init__(self, base, altura, coordenada)\r\n",
        "    Circulo.__init__(self, radio, coordenada)\r\n",
        "\r\n",
        "cord = Coordenada(5, 7)\r\n",
        "x = FiguraGeometrica(cord, costado = 5)\r\n",
        "print(x.datos1())\r\n",
        "\r\n",
        "\r\n"
      ],
      "execution_count": null,
      "outputs": [
        {
          "output_type": "stream",
          "text": [
            "None\n",
            "5\n",
            "5\n",
            "7\n"
          ],
          "name": "stdout"
        }
      ]
    },
    {
      "cell_type": "code",
      "metadata": {
        "id": "DaguRJ4KxuFh"
      },
      "source": [
        "class Persona:\r\n",
        "\r\n",
        "  def __init__(self, nombre, apellido):\r\n",
        "    self.nombre = nombre\r\n",
        "    self.apellido = apellido\r\n",
        "\r\n",
        "  # dunder (double underscore)\r\n",
        "  def Nombre(self):\r\n",
        "    return self.nombre + ' ' + self.apellido\r\n",
        "\r\n",
        "class Empleado(Persona):\r\n",
        "\r\n",
        "  def __init__(self, nombre, apellido, cod):\r\n",
        "    super().__init__( nombre, apellido)\r\n",
        "    self.cod = cod\r\n",
        "\r\n",
        "  def empleado(self):\r\n",
        "    return self.nombre + ' ' + self.apellido + ' ' + str(self.cod)\r\n",
        "\r\n",
        "p1 = Persona('Lola', 'Pailler')\r\n",
        "print(p1.Nombre())\r\n",
        "\r\n",
        "e1 = Empleado('Pola', 'Lailler', 1439776)\r\n",
        "print(e1.Nombre())"
      ],
      "execution_count": null,
      "outputs": []
    },
    {
      "cell_type": "code",
      "metadata": {
        "colab": {
          "base_uri": "https://localhost:8080/"
        },
        "id": "GplTkN2ItaZD",
        "outputId": "bf7f5b43-35f8-4621-b17c-d1c768e89d09"
      },
      "source": [
        "from math import pi\r\n",
        "\r\n",
        "class Coordenada():\r\n",
        "\r\n",
        "  def __init__(self, x, y):\r\n",
        "    self.setx(x)\r\n",
        "    self.sety(y)\r\n",
        "\r\n",
        "  def setx(self, x):\r\n",
        "    self.x = x\r\n",
        "\r\n",
        "  def sety(self, y):\r\n",
        "    self.y = y\r\n",
        "\r\n",
        "  def getx(self):\r\n",
        "    return self.x\r\n",
        "\r\n",
        "  def gety(self):\r\n",
        "    return self.y\r\n",
        "\r\n",
        "class FiguraGeometrica():\r\n",
        "\r\n",
        "  def __init__(self, coordenada):\r\n",
        "    self.coordenada = coordenada\r\n",
        "\r\n",
        "  def joder(self):\r\n",
        "    return self.coordenada\r\n",
        "\r\n",
        "\r\n",
        "class Cuadrado(FiguraGeometrica):\r\n",
        "\r\n",
        "  def __init__(self, costado, coordenada):\r\n",
        "    self.__costado = costado\r\n",
        "    self.__area = None\r\n",
        "    super().__init__(coordenada)\r\n",
        "\r\n",
        "  def getbase(self):\r\n",
        "    return self.__costado\r\n",
        "\r\n",
        "  def setcostado(self, costado):\r\n",
        "    self.__costado = costado\r\n",
        "\r\n",
        "  def superficie(self):\r\n",
        "    self.__area = self.getbase()**2\r\n",
        "\r\n",
        "  def getarea(self):\r\n",
        "    if self.__area is None:\r\n",
        "      self.superficie()\r\n",
        "    return self.__area\r\n",
        "\r\n",
        "  def datos(self):\r\n",
        "    return str(self.__area) + '\\n' + str(self.__costado) + '\\n' + str(self.coordenada) \r\n",
        "\r\n",
        "cord = Coordenada(5, 7)\r\n",
        "x = Cuadrado(5, cord)\r\n",
        "x.getarea()\r\n",
        "print(x.datos())\r\n",
        "print(x.joder())\r\n"
      ],
      "execution_count": null,
      "outputs": [
        {
          "output_type": "stream",
          "text": [
            "25\n",
            "5\n",
            "<__main__.Coordenada object at 0x7fb663e16160>\n",
            "<__main__.Coordenada object at 0x7fb663e16160>\n"
          ],
          "name": "stdout"
        }
      ]
    },
    {
      "cell_type": "code",
      "metadata": {
        "id": "BG056lTo56ti"
      },
      "source": [
        ""
      ],
      "execution_count": null,
      "outputs": []
    },
    {
      "cell_type": "code",
      "metadata": {
        "id": "qz0-CPHe4mP7"
      },
      "source": [
        ""
      ],
      "execution_count": null,
      "outputs": []
    }
  ]
}